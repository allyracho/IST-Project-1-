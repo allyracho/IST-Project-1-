{
  "nbformat": 4,
  "nbformat_minor": 0,
  "metadata": {
    "colab": {
      "name": "Group Assignment 2",
      "provenance": [],
      "collapsed_sections": [],
      "include_colab_link": true
    },
    "kernelspec": {
      "name": "python3",
      "display_name": "Python 3"
    }
  },
  "cells": [
    {
      "cell_type": "markdown",
      "metadata": {
        "id": "view-in-github",
        "colab_type": "text"
      },
      "source": [
        "<a href=\"https://colab.research.google.com/github/allyracho/IST-Project-1-/blob/master/Group_Assignment_2.1.ipynb\" target=\"_parent\"><img src=\"https://colab.research.google.com/assets/colab-badge.svg\" alt=\"Open In Colab\"/></a>"
      ]
    },
    {
      "cell_type": "markdown",
      "metadata": {
        "id": "l925ikLLjbW7",
        "colab_type": "text"
      },
      "source": [
        "We created the ER diagram for the National Football League. The diagram consists of six tables: head coach, revenue, highest-paid player, MVP winners, QBR rating, and team. The first table will be about the head coach, it will show how long a coach has been with a certain team and statistics about their wins. For this one, the entity is the coach ID and the attributes will include the coach’s first name and last name, the team he works for, the number of wins, and the years present with the team. The second will be the highest-paid player table, it shows which member of a team has the highest net worth.  The entity here is the player ID and the attributes are first name and last name of the player, position, date of birth, team, and the net worth of the player. The third table will be the QBR rating, it shows the quarterback of each team and their quarterback rating. The entity here is the player ID, the attributes will include player’s first name and last name, the team the player worked for, completion percentage and years active. The constraints for this table are that it cannot be below 0 but it cannot exceed 158.3. Real-time data is included with the QBR because it is for the entire season and changes over time. The fourth table shows the revenue of each team in the league. The entity here is the team and the attribute is the revenue that they brought in, which includes the location, ticket sales, and merchandise sales. The fifth table is the last 10 MVPs. The entity is the player ID and the attributes are the first name, last name, age of winning MVP, position and team played for. There will be a constraint on the years of data that is taken because we are only checking the last ten years. The final table is dedicated to the teams, with team name being the primary key. Attributes for this table include players, coaches, location, revenue and number of wins. Since team name is a primary key in this table it is considered a foreign key in others. Relationships in the diagram are all connecting to the team table. QBR the team is (1,1) with the quarterback playing for the team. Other (1,1) relationships exist between the head coach coaches the team, the team pays for the highest-paid player, and the MVP played for a team. A (1,M) relationship occurs with the team generating a large amount of revenue. Using these entities, attributes and relationships, our goals can hopefully be achieved and create a successful database for the user. \n",
        "\n"
      ]
    },
    {
      "cell_type": "code",
      "metadata": {
        "id": "ict4nV-OnAMJ",
        "colab_type": "code",
        "outputId": "aa1e5d7c-147c-4780-f2ef-76c7914fd3ba",
        "colab": {
          "base_uri": "https://localhost:8080/",
          "height": 130
        }
      },
      "source": [
        "https://drive.google.com/file/d/1ZZuhVT8o4rKaRNw-Q8XBBl7kWBfvYgq2/view?usp=sharing"
      ],
      "execution_count": 1,
      "outputs": [
        {
          "output_type": "error",
          "ename": "SyntaxError",
          "evalue": "ignored",
          "traceback": [
            "\u001b[0;36m  File \u001b[0;32m\"<ipython-input-1-d16d40e987d1>\"\u001b[0;36m, line \u001b[0;32m1\u001b[0m\n\u001b[0;31m    https://drive.google.com/file/d/1ZZuhVT8o4rKaRNw-Q8XBBl7kWBfvYgq2/view?usp=sharing\u001b[0m\n\u001b[0m           ^\u001b[0m\n\u001b[0;31mSyntaxError\u001b[0m\u001b[0;31m:\u001b[0m invalid syntax\n"
          ]
        }
      ]
    }
  ]
}
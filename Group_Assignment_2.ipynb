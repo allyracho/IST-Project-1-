{
  "nbformat": 4,
  "nbformat_minor": 0,
  "metadata": {
    "colab": {
      "name": "Group Assignment 2",
      "provenance": [],
      "collapsed_sections": [],
      "include_colab_link": true
    },
    "kernelspec": {
      "name": "python3",
      "display_name": "Python 3"
    }
  },
  "cells": [
    {
      "cell_type": "markdown",
      "metadata": {
        "id": "view-in-github",
        "colab_type": "text"
      },
      "source": [
        "<a href=\"https://colab.research.google.com/github/allyracho/IST-Project-1-/blob/master/Group_Assignment_2.ipynb\" target=\"_parent\"><img src=\"https://colab.research.google.com/assets/colab-badge.svg\" alt=\"Open In Colab\"/></a>"
      ]
    },
    {
      "cell_type": "markdown",
      "metadata": {
        "id": "l925ikLLjbW7",
        "colab_type": "text"
      },
      "source": [
        "[link text](https://www.draw.io/?lightbox=1&highlight=0000ff&edit=_blank&layers=1&nav=1&title=G2#R7V1bd%2BI2F%2F01rNU%2BJMt3zONA5tKGpITkazp56VJAgKfGYhkngf76ykYG7CODAcmYb5TJyiBZ%2BKKztSXtcyQ3zM508TVEs8kdGWK%2FYWjDRcO8aRiG29Tp3zhjucqwzdYqYxx6w1WWvsl49P7FLFNjuW%2FeEM8zBSNC%2FMibZTMHJAjwIMrkoTAkH9liI%2BJnrzpDYwwyHgfIh7nP3jCasMeytU3%2BN%2ByNJ%2BmVdY0dmaK0MMuYT9CQfGxlmZ8bZickJFp9mi462I%2FrLq2X1fe%2BFBxd31iIg6jMF17Jg%2FV6czf4MXCRP2q%2Fm%2F%2BbDa7YWd6R%2F8Ye%2BKHdZ%2FcbLdNKmH94Ux8FNNUekSB6ZEc0mh5MPH%2FYRUvyFt%2FEPEKDf9JUe0JC719aHvn0kE4z6OEwYjY2nPhsnu93iE%2FC5Dom1uJ%2FmW8%2Bxmdk1wrxnH63lz6xnsu6Q4tMwS6aR%2BldEt9Hs7n3mtx3%2FMUpCsde0CZRRKasUPqUX7I3NUp%2B6HHke%2BOA5g3otXCY1sXqaXSLpqFF0urFYYQXW1nMQl8xmeIoXNIi7KjTZGhhzaW5Sn1soKenJSbbsGuxTMTgPl6feYMI%2BoGB4gCAGAAgMx8t6eMb2m83ECgTNIs%2F0jqIPOT3aYtEwTg%2B2o7IjNWzj0epXUL2CPHn19QW%2BlZdr8q24wr0aKP8xLKn3nCYnHUbQAFJEDqfoYEXjLurq5jWJqvPrhZnEXrKkZ%2B0xwk9GQ7iuyERitDrGtsz4gVRUqF2m%2F7SKu5o13bDpk%2FaoWl9k6a%2FcfEw6pBgHoXISwCAKQA%2FcAzC9jAksycKOZw%2B7XY7snNYMrhY2tl%2B9wOMAYo2u1KIMmUBygSA6t2ejKPX7XbMwURZOGWxIww6%2B9ARPyYD%2FpE4MApwsO4Y2b1l%2Bp4MPrYAYVaJBwvg4QtN3qMplsMu2n44JCe7cGqpgErsklRiWJKgYwPonJtIVsi5WBaxCiAgjEWkQcEBUOgqFrkIFnG1kiziSIJOU7GIWBZxCiAgjkVkQcEFUHjCaLomEnpZc4GSilh%2F7JDpzMeRR4JG%2FDQ2v9R3jMI5LfBpEHnvipJqTkm6VnJk48rqzlpwUHz2SdKFs5JbgAJhrCQNDKkUKrKHUgwil0FaO0Y14gECVVxFFieRxbrJCWUL8YaH6uw3jIY0p0PQYAJBoHT8RjU6vuFkdXyekO%2FwhraaNKxA4XWwAokS8usg5BcpuAcp%2BTxIyWMfKN0qKV9A32MWIKH%2BWr4OFVkl5p9nxHownfDUfG4PJUt80aGGe24yufRRrF0AgvorcTpUZZWgfyFM4hrnZhKo4yomOY1JmgUguAAmgVrqXlE%2Flet7dAIaVwy30P3b9DWJgyIj%2BufZC%2BaZcoqkak1SuuaWY6mmIQmYBpR1lch%2FKk%2B1CnAgjKdEwOHz4ofz5fbFn7zMfoy7i4fbifHCmzvxeafER8U99eYeXswDXw2UBTY11zqeeXY2Xz7NlELHvhGStBBvCe4jRSGSxV9tB4WIRwj0Mym6OC1eu8ijVC8HowGdRnd%2F9lbTnQDHcyTlYTyTh7GZ9gepfpuOffcNKvSWKwst0CGkFgvVyMdoFHmW6utjNOCsSPkYBXQ%2F0iP95SECTl2Uj%2FEso9bD6eTsPkZDBfuLZpLLjfY3oJtI%2BRgvhEnO7mM0oFtJMclpTCI9Ql8aGEzoyvk0xluuwYDWP1%2Bs75G5t1o9xDua8VQqSqo1JZX2KLqyhsYmT8gt7zdS3scTGcws0vrFrTGSBh0JCq8iHMmE45YkHF0aaqA8rCjkNAop8gQJoxB5YIDqbx%2B%2F4%2BCNM3RRXoJGNV4CN7efmGGX5QxL1nJWE0q60oe5yktwAAUVacP19RKYUBNWXgIBnZH09QPyEAHlmS4ZoNVMW41rKxzXHk4nZ%2FcSWBI2XPjJh7XS43LlgQGKKk%2Fe4B%2FaLAztEfl4zhdT7nA4mKBg6M3xpqAinloTT1mngm3IwpoEFebnJh5LSpxdNWCQIK4oBpHLIHr6lbNJchZUYRSFnEYh0vdjkAcGKLV8o5eNa8bQeoh%2Bl%2F7HIjSVRHcmiU5PYxwZh1jc0H6bM%2BSVtiLEgnqKCuStkURnFQkzh0l0HEzJ2%2BYdRt4piU5A5yQ9%2FE4eImD4XRrIq6bK1Q50D%2BcTrkbH66OkyTIq%2Fk40lVxu%2FJ0NBVsVyXshTMIV3apkElvtniuYSdbN8QKZBCqwN38UxEvu3UZod2zvfeJCeKaW4GzUq0iqViTFj%2B3lsJSuyZKDbZ4crMJ4ZdCXUQAPgYKfNJRIkH8VuUjWZvSSgp80ndhWb1ITzSHSF1iLAEPkhc8Py3v%2F79vIHfi%2Fv0VTgjgv6PxF15If2pr0XwEw6PMlyn80TTX%2FRIvfWfnoLSJzVqsHYuEpAduVlRo5Hl%2FRtKlxjXP4thpuVo03HLhzv8sbkQowBx4%2BWFf9u641DUfa6OX7Q7Mfcd7Q%2FIteY0MIMoOZOkFSpwhHcLKqNAOcF4D6x8MxTsV9%2BuRetOxjP6mXz5sjgFC2zIWD4af4leU0%2Bbk%2FRcHwj1V3GbvQeAfwwov%2Bir97rekOS3%2BPbXDt6k2WvkkdZEliuZXo4dCjdRO7tXZbbU7ewgF7xteX39x7Z%2FGX7f14%2BXPSsb763mT9tpS4AnYad7uD07icxjLDpOLeceY%2BeDZl1%2BjFwN6gx7Ky6DHzQRqrR2Lf2iADnAhssmPl7iVKRgzgRAnE1g9%2BPOp4XFzjxt%2B0xbR%2BJ%2Ff2FDt1kVbQ%2Bvm7%2B%2F2kdsi1IytdYXouFoazm1rbIY4kFmIIy7Cus%2BMS06jOFNwmAf0vPbSEjrt62MEWNSyxcx1LE07dqiUmOC6pdYsQ1h6a%2BfYABbpqDXFhXXVLlCXM3HzJOrchYB%2BRvOeME1Twf2aIfJPQ0znKlimq3WUaxvwkYWRDmjciYT3t4Qqyh2PnZ7Bwf07ue84FWOO52%2B3c3j%2F02n38NH%2F6u9d9CJucGWwc%2Bjmvsy2uRDUOu%2BXkmgaM05bVNLjGKBHbX72cENAni%2FWEK%2B1a05w05%2FsqR0%2FTG0UhSS23U3lNYa1QZNQJe6c2UWjuvToEs3GUqviNoq02GjWTK3JUoedVhrJyhZNTzVp29jzi1AouqC9tdtYSNU02jVzXu35NSAWjIK4poEOn1qYQ1efmQumhdC%2FLCFw%2BgiS%2FChnJWUAttahqqYXVBA3VgjKKxBcz81ACWVNth3JznrUWuxpxPXdD4d2x2jL9VI%2F%2BrmZa74UWO4bFuYkf9%2B0dKjJIUGSQECapdCMU3h2r3dIFk8hlbJbOu3O4WKsTq6qKQupNIZXuk867Y7VMSzCFXMYqrV1hQtw92XiR7OvtQ494%2FbJ6G%2BqFMFT5bdMNWbhUC8AEc9S6pcvbCF0aGKCbTDFIzRmkxVs%2FIWufHS5o1D7oohnEKEBBrdZPcF0vJV6tfbZIce261bIa277YlnN4pPjaUbxObPl1d7iIoe15nt1d25xkXLs7Jti1ce2aTm5zJysHu7KuXSt3IjN%2FIsm%2B3RJSkFhUU5Z7IncoWJbB9SHxBZkwB8POQlg3zD0g5sY5FCK7NkB0TPPasQzXburJXzMLy7x3qywsXcfJe9Rc%2B5pdI%2FnrVgpTKFP9FH7vfFiyA8ObKg0%2FgKrPVxzgEEV1jcIUFqnf1HM8rcPpbaVhfxzVpQbjkUyoWSvLwU3zKA7eWg1nupn%2BwDhijHP8WCWdDOwdq1g16yLM3Kors9U6dqySPZGRP9HRnQBNhoRE28VDNJvckSGOS%2FwH)\n",
        "\n",
        "We created the ER diagram for the National Football League. The diagram consists of six tables: head coach, revenue, highest-paid player, MVP winners, QBR rating, and team. The first table will be about the head coach, it will show how long a coach has been with a certain team and statistics about their wins. For this one, the entity is the coach ID and the attributes will include the coach’s first name and last name, the team he works for, the number of wins, and the years present with the team. The second will be the highest-paid player table, it shows which member of a team has the highest net worth.  The entity here is the player ID and the attributes are first name and last name of the player, position, date of birth, team, and the net worth of the player. The third table will be the QBR rating, it shows the quarterback of each team and their quarterback rating. The entity here is the player ID, the attributes will include player’s first name and last name, the team the player worked for, completion percentage and years active. The constraints for this table are that it cannot be below 0 but it cannot exceed 158.3. Real-time data is included with the QBR because it is for the entire season and changes over time. The fourth table shows the revenue of each team in the league. The entity here is the team and the attribute is the revenue that they brought in, which includes the location, ticket sales, and merchandise sales. The fifth table is the last 10 MVPs. The entity is the player ID and the attributes are the first name, last name, age of winning MVP, position and team played for. There will be a constraint on the years of data that is taken because we are only checking the last ten years. The final table is dedicated to the teams, with team name being the primary key. Attributes for this table include players, coaches, location, revenue and number of wins. Since team name is a primary key in this table it is considered a foreign key in others. Relationships in the diagram are all connecting to the team table. QBR the team is (1,1) with the quarterback playing for the team. Other (1,1) relationships exist between the head coach coaches the team, the team pays for the highest-paid player, and the MVP played for a team. A (1,M) relationship occurs with the team generating a large amount of revenue. Using these entities, attributes and relationships, our goals can hopefully be achieved and create a successful database for the user. \n",
        "\n"
      ]
    }
  ]
}
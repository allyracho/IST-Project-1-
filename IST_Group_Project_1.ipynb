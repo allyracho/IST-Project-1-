{
  "nbformat": 4,
  "nbformat_minor": 0,
  "metadata": {
    "colab": {
      "name": "IST Group Project 1",
      "provenance": [],
      "collapsed_sections": [],
      "include_colab_link": true
    },
    "kernelspec": {
      "name": "python3",
      "display_name": "Python 3"
    }
  },
  "cells": [
    {
      "cell_type": "markdown",
      "metadata": {
        "id": "view-in-github",
        "colab_type": "text"
      },
      "source": [
        "<a href=\"https://colab.research.google.com/github/allyracho/IST-Project-1-/blob/master/IST_Group_Project_1.ipynb\" target=\"_parent\"><img src=\"https://colab.research.google.com/assets/colab-badge.svg\" alt=\"Open In Colab\"/></a>"
      ]
    },
    {
      "cell_type": "code",
      "metadata": {
        "id": "0l7BM46R87v0",
        "colab_type": "code",
        "colab": {}
      },
      "source": [
        "print ('Idea 1 Part A: My idea is to do the National Football League as the company.  More specifically, I will be looking at various statistics that affect the league but may go unnoticed in order to reveal some of the facts about the league and the direction of the league.  For the idea, I will cover a wide range of topics from players to coaches to franchises as a whole.  I will be looking at it from the perspective of a team owner and when showing statistics of players, that would be similar to showing how well an employee is performing or how marketable an item would be.  This idea is unique because it will be a combination of data on player and team performance as well as the revenue franchises are making.  This is unique because it will give a more complete look at teams where it is more than teams and performance, it is also about the marketability of a franchise location and the revenue being created.  This idea is borrowing from an already established business in the National Football League but it also giving more of an analytical overview similar to how a sports show or Pro football talk would do.  A typical interaction in the business would depend on the person involved.  For the players in the league, it would be coming in to do their workouts or practice as well as meeting with a trainer or watching film if necessary.  They would interact with other teammates, coaches, and trainers.  For the coaches, it would include coming in and figuring out game plans and running practice.  They would interact with players and other coaches to look at performance and draw up a game plan and figure out depth chart.  The owners would look more at the business side of things and how revenue is doing or if there are any problems with day to day operations so they would deal mostly with other executives and sometimes with the coaches depending on how hands on they are.  On game days, players and coaches would be focused on the game and owner’s are usually in their box seats entertaining other important business people or boosters.')"
      ],
      "execution_count": 0,
      "outputs": []
    },
    {
      "cell_type": "code",
      "metadata": {
        "id": "HrrptWEtRIig",
        "colab_type": "code",
        "outputId": "5d456a8e-284e-4f46-c94c-d1e7c25cedd8",
        "colab": {
          "base_uri": "https://localhost:8080/",
          "height": 88
        }
      },
      "source": [
        "print ('Idea 1 Part B and C:https://drive.google.com/file/d/13g5-yWXQ1PzhUPMlyhdoh1SLKozdHpZp/view?usp=sharing')\n",
        "print ('There are five tables included here.  The first table shows how long a coach has been at an NFL team.  For this one, the entity is the coach and the attribute is the years coached at the team.  The second table shows the highest paid player on each team.  The entity here is the player and the attributes are the position, age, and salary.  The third table shows the quarterback of each team and their qbr rating.  The entity here is the quarterback and the attribute is the qbr.  The constraints to this are that it cannot be below 0 but it cannot exceed 158.3.  The fourth table shows the revenue of each team in the league.  The entity here is the team and the attribute is the revenue that they brought in.  The fifth table is the last 10 league mvps.  The entity is the players and the attributes are the position and the age that they were when they won the mvp.')\n",
        "print ('The real time data is included with the quarterback qbr because it is for the entire season and it changes over time')\n"
      ],
      "execution_count": 0,
      "outputs": [
        {
          "output_type": "stream",
          "text": [
            "Idea 1 Part B and C:https://drive.google.com/file/d/13g5-yWXQ1PzhUPMlyhdoh1SLKozdHpZp/view?usp=sharing\n",
            "There are five tables included here.  The first table shows how long a coach has been at an NFL team.  For this one, the entity is the coach and the attribute is the years coached at the team.  The second table shows the highest paid player on each team.  The entity here is the player and the attributes are the position, age, and salary.  The third table shows the quarterback of each team and their qbr rating.  The entity here is the quarterback and the attribute is the qbr.  The constraints to this are that it cannot be below 0 but it cannot exceed 158.3.  The fourth table shows the revenue of each team in the league.  The entity here is the team and the attribute is the revenue that they brought in.  The fifth table is the last 10 league mvps.  The entity is the players and the attributes are the position and the age that they were when they won the mvp.\n",
            "The real time data is included with the quarterback qbr because it is for the entire season and it changes over time\n"
          ],
          "name": "stdout"
        }
      ]
    },
    {
      "cell_type": "code",
      "metadata": {
        "id": "8rooQUmzLffG",
        "colab_type": "code",
        "colab": {}
      },
      "source": [
        "print ('Idea 1 Part D: My Goal is to determine which teams are the most profitable and successful as well as figuring out which factors affect the success of a team and which position to spend the most on for players.  I will be using the different tables to show the connections for different aspects of the league.  The first table that I will include will show the highest paid player of each team including their age and position.  This will give insight into how long the highest paid players for each team will be around.  The second table will be the qbr rating for the starting quarterbacks on each team.  The qbr is a measure out of 158.3 and takes into account more metrics on passing plays than passer rating such as strength of opposition and the clutch factor.  This will show how well the quarterbacks for each team is performing and how important they are for the team.  In the third table, it will display the head coach of each team and how long they have been the head coach for.  This is typically a good indicator for how well the team has performed in the past and whether or not they kept the head coach.  The fourth table will be the name and age of the last ten league most valuable player winners.  This statistic will show whether the younger players are starting to overtake the older players as the best in the league.  It will also show that the NFL favors offensive players more than defensive players.  The fifth table will show how much revenue each nfl team brings in.  This will show how effective the teams are at selling tickets, merchandise, and other things.')"
      ],
      "execution_count": 0,
      "outputs": []
    },
    {
      "cell_type": "code",
      "metadata": {
        "id": "SFOLcNt4XyKI",
        "colab_type": "code",
        "colab": {}
      },
      "source": [
        "print ('Idea 2 Part A: This database will mainly focus on the student information of Penn State. It will include five tables identify the students basic information, courses information, student courses information, student contact information and student financial information of five students from Penn State World Campus. The student basic information table will include student’s first name, last name, date of birth, student ID and Social Security number. This will help people to identify who the student is. The courses table will include courses title course code, credits, locations, dates, time, assigned professor name and section number. This table will give more detailed information for the specific course. The student courses table will show student ID and the course code. And this table will be the dynamic data talbe, it will reflect if any student added or dropped classes during the school year. The second table and the third table combined together matches a specific student to specific classes. The student contact information table will include the student ID number, the phone number, emergency contacts, and the address of the student. This table will give information about how you could reach out to the specific students. The last table will be financial information for the student. Which will include Student ID, Financial Aid Year, Financial Aid institution, Social security number, FSA ID and saved payment information. This will show the financial record of a specific student, and we could know whether or not the student is capable of paying the tuition for the school year. There will be constrains for each table. For example, the student ID number will be exactly 9 digits. The course ID number cannot be indicated with negative sign. Also, in the student courses table, each student will have 4 to 8 courses. Moreover, there is a relationship between tables, for example 1 student information has many student courses, 1 student courses has 1 course and 1 student information has 1 financial information.')"
      ],
      "execution_count": 0,
      "outputs": []
    },
    {
      "cell_type": "code",
      "metadata": {
        "id": "u_gxNU-DmeI_",
        "colab_type": "code",
        "colab": {}
      },
      "source": [
        "print('Idea 2 Part B and C:https://drive.google.com/file/d/1ekQ3DYTC4Pmcel-BmtsUnuZYOBGDCzK8/view?usp=sharing')"
      ],
      "execution_count": 0,
      "outputs": []
    },
    {
      "cell_type": "code",
      "metadata": {
        "id": "FZf3d4rqtzsU",
        "colab_type": "code",
        "colab": {}
      },
      "source": [
        "print('Idea 2 Part D: My goal is to create a database like Penn State Lionpath that records important information of students. The first table is used to define who the student is, the second and third table states the class the student is taking. The third table provides contact information of the student. Lastly, the financial information table shows the tuition payment information of the student.')"
      ],
      "execution_count": 0,
      "outputs": []
    },
    {
      "cell_type": "code",
      "metadata": {
        "id": "VzM-oHKq4ydm",
        "colab_type": "code",
        "colab": {}
      },
      "source": [
        "print ('idea 3 Part A: It is not as convenient as driving and parking in university park as in other campuses. So, for the student’s drivers, there should be someone to tell them where they should go to park, and this is how this idea comes from. This idea is unique because, I have not seen an app that only serve for the people who need to park in this area, but that is what the people who taking education here or living here are needed. They need some supports for getting help when they are considering when they should go to park. This is a brand-new product, but it still gets some ideas from the app of CATA Bus, the end-users can see clearly that where is their nearest bus stop, and how long the closest bus will come. And as our idea, it would show the locations, available time periods, prices, distances to the buildings area and available seats in the parkings, and it would help the end-users for making decisions to choose the place they are going to park. In this product, people just need to choose their building area, and other information would be coming out. For example, if Jacky has a class at 10:10 am in business building, then he just needs to choose Ag Hill area, and the choices would be coming out. The end-users may see that the East Parking Deck and the Penn State University Park-East Parking Deck are the two of the nearest parking places. And they can see the available seats in these two parking places, and prices of the parking. After getting the information, they can make the final decision for choosing their parking places by that. So, the tables would be included the names of the parking places, the locations, available time periods, prices, distances to the buildings area and available seats in the parkings.')"
      ],
      "execution_count": 0,
      "outputs": []
    },
    {
      "cell_type": "code",
      "metadata": {
        "id": "mKBU1j1bfvYv",
        "colab_type": "code",
        "colab": {}
      },
      "source": [
        "print ('idea 3: Part B and C: https://drive.google.com/file/d/1tMnHZ8KphebFbsdwiWhXgUNjCvRpRjye/view?usp=sharing')"
      ],
      "execution_count": 0,
      "outputs": []
    },
    {
      "cell_type": "code",
      "metadata": {
        "id": "wvKQLHzcXJJ_",
        "colab_type": "code",
        "colab": {}
      },
      "source": [
        "print ('idea 3: PartD: My goal is to figure out which parking place is the the closest to the users current location, and in which parking place, the users can spend the least number of money for the daily parking')"
      ],
      "execution_count": 0,
      "outputs": []
    }
  ]
}
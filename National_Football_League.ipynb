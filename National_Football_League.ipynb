{
  "nbformat": 4,
  "nbformat_minor": 0,
  "metadata": {
    "colab": {
      "name": "National Football League",
      "provenance": [],
      "collapsed_sections": [],
      "include_colab_link": true
    },
    "kernelspec": {
      "name": "python3",
      "display_name": "Python 3"
    }
  },
  "cells": [
    {
      "cell_type": "markdown",
      "metadata": {
        "id": "view-in-github",
        "colab_type": "text"
      },
      "source": [
        "<a href=\"https://colab.research.google.com/github/allyracho/IST-Project-1-/blob/master/National_Football_League.ipynb\" target=\"_parent\"><img src=\"https://colab.research.google.com/assets/colab-badge.svg\" alt=\"Open In Colab\"/></a>"
      ]
    },
    {
      "cell_type": "code",
      "metadata": {
        "id": "rZVZHdcYBC5y",
        "colab_type": "code",
        "colab": {}
      },
      "source": [
        ""
      ],
      "execution_count": 0,
      "outputs": []
    },
    {
      "cell_type": "markdown",
      "metadata": {
        "id": "j5wBPnLbBHXh",
        "colab_type": "text"
      },
      "source": [
        "  The group decided to go with a database centered around the National Football League. Unlike creating a database for a broad topic such as sports or even football in general, we primarily focused on the National Football League, NFL. This idea is unique because it will be a combination of data on player and team performance as well as the revenue intake. I will be looking at it from the perspective of a team owner and when showing statistics of players, it would be similar to showing how well an employee is performing or how marketable an item would be.  A typical business day for the analyst would include taking statistics on previously played games, updating the database, and reporting any changes made. Each table is set up for a different entity. The first table will show the highest paid player of each team. This will give insight into how long the highest paid players for each team will be around. The attributes of this entity are the player's name, team, age, position, and net worth. A constraint will be the range of ages. The second table will be the QBR, total quarterback rating, for the starting quarterbacks on each team. The QBR is a measure out of 158.3 and takes into account metrics on passing plays than passer rating such as strength of opposition and the clutch factor. This will show how well the quarterbacks for each team is performing and how important they are for the team. The attributes will be player's name, team, completion percentage, and year. Within these attributes, there is constraints such as (1990-2019). Our third table is dedicated towards the head coach of each team and how long they were hired for the team. Our group felt this was a good entity as it indicates how well the team has performed in the past and whether or not they kept the head coach. Attributes for the table include the name of coach, team coached, years present, and the number of wins. Constraints will be for the amount of years (1920-2019). The fourth table will be the name and age of the last ten most valuable player winners. This statistic will show whether the younger players are starting to overtake the older players as the best in the league. It will also show that the NFL favors offensive players more than defensive players. Name, age, position, and team are the attributes for this table. A constraint such as keeping the range of ages between (18-50) and only checking between the years (2009-2019). The final table will state the revenue each NFL team brings in. This will show how effective the teams are at selling tickets, merchandise, and other things. Attributes include team, location, ticket sales, merchandise sales. Constraints are the selected items of merchandise, the range of ticket sales, and the years the revenue has been taken. A major relationship between our tables will be the highest paid player and the team's revenue. This is a M:1 relationship. This relationship will question if the highest paid player is on highest revenue-intake team. Another relationship will be between the third and fifth table, head coach to team revenue. This is also a 1:1 relationship because there is one coach and one overall team revenue. There is a 1:M relationship between the highest paid player and most valuable players. These relationships are pictured below. Using these entities, attributes, and constraints our goals can hopefully be achieved and create a successful database for the user.\n",
        " \n",
        "[link text](https://www.draw.io/?lightbox=1&highlight=0000ff&edit=_blank&layers=1&nav=1&title=Untitled%20Diagram.drawio#RzZXfb5swEID%2FGh4n8SNJ28c1S1dNmhQl06o%2BnvAN3BmMzCWE%2FvU7hB3DnHbrU%2FsC%2BPP5bH8%2BJ1G2rk5fDTTldy1QRWksTlH2JUrT6%2BuEnwPoR7BcxCMojBQjSjzYy2e00IUdpMB2FkhaK5LNHOa6rjGnGQNjdDcP%2B6XVfNYGCgzAPgcV0gcpqLTbWsae36MsSjdzEtueClywBW0JQncTlG2ibG20pvGrOq1RDe6cl3Hc3Qu954UZrOl%2FBuwg%2FpablH43jxU9%2FWzq%2Frn%2FZLMcQR3shu95M9gSwy3wUH4p6NHYPVDvxBh9qAUOuZMou%2B1KSbhvIB96O64EZiVVynbbWdAQnl5cfnKWwsWEukIyPYe4AVfWoy0k1%2Bz8qSROdTk5kZVlYAuhOGf2rvjD6nqDujRQ9wOhYrLDI9bM3tvYYvXBjGWBscAR1uLzcGu5lStoW5mzi5bAUIgDWyiCu%2FxPVxMZywsuHDOogORxnv6SIDvDVsua%2FFFk8XJ2FDc38wytPpgc7aDpHf4rz2Lxeh4WVSAFedgd9JOwZghoX1nu1cVp%2FNmPCX0lnIVeKg5u%2Bl%2B5Mdz%2FVWSbPw%3D%3D)\n",
        "\n",
        "[link text](https://www.draw.io/?lightbox=1&highlight=0000ff&edit=_blank&layers=1&nav=1&title=Untitled%20Diagram.drawio#RxZTBcpswEEC%2FhmNmwNjEOTqOE18yTe1M3Oa2RRvQVCBGWhvjr48IkoHKnaanXGz0tFpJbyUF8bI4Piio8kfJUASTkB2D%2BC6YTObzyPy2oOnAbBp2IFOcdSjqwZaf0EIXtucM9SiQpBTEqzFMZVliSiMGSsl6HPYmxXjWCjL0wDYF4dMdZ5Tbbc3Cnq%2BRZ7mbOQptTwEu2AKdA5P1AMWrIF4qKan7Ko5LFK0756Ubd%2F%2BX3vPCFJb0mQGLze%2FXZFlH1e55d%2Fi%2Bud28Le6vJl2WA4i93fDabAY1GfgEZqj5E9CgsnugxolRcl8ybHNHQXxb55xwW0Ha9tbmJBiWUyFst79Wu%2FwDKsLjANm1P6AskFRjQlzvtfVoD5Jr1n1VIqc6H1QksQzsQcjOmXtX5sPq%2Bg91safuUX54ezEEfhlPzp3%2BcnnT5OvkhT%2B%2B3ayxOa1Orxp%2BNgzmyfVV4snzHGHJFu0FNq1UgNY8NS40gSIff8YWstFN910NZMwuuHBMoQDih%2FH7cEmQneFJ8pL6UsThuBTnB8Ol0HKvUrSjhvf5j0TT2T8SGVUZkpfoo17nbV8qoWn2z1IX3r%2Ft8eod)\n",
        "\n",
        "[link text](https://www.draw.io/?lightbox=1&highlight=0000ff&edit=_blank&layers=1&nav=1&title=Untitled%20Diagram.drawio#RzZXfT4MwEID%2FGh5NYMB%2BPCrOLVET4zQ%2Bmgs9obFQVsrY%2FOstoR3UTjOf9GWhX6%2FX47uWeWFS7FcCqvyeE2TexCd7L7z2JpP5PFC%2FHTj0II78HmSCkh4FA9jQD9TQhDWUYG0FSs6ZpJUNU16WmEqLgRC8tcPeOLN3rSBDB2xSYC59oUTm%2BrVif%2BBrpFludg58PVOACdagzoHwdoTCpRcmgnPZPxX7BFnnznjp1918M3ssTGApz1nQvL7HRNxmbL69S5630RTq9kJn2QFr9AuvEYgiCYc014XLg7EheFMS7BIGXnjV5lTipoK0m21V%2BxXLZcH0tFug2Q2FxP0I6YJXyAuU4qBCzOxMy9OnxwzboRWB8ZuP2jDVDHT3s2PmQZB60I5%2B4Wvi%2BHpCKBR5xB2Wiv21sWj6z4yFjjHHEZbksruqapQyqGuaKhe1BCFdfI4tJNaddl2NZMQnXBgmkIGkO%2FtLcEqQ3uGBU1XJsRWhH1utWCzsDDVvRIp60fjifskTRT%2FnUaIylE4e5Q4Oo7CqC6h%2FKHd2cpuh933C4SQchZ46HGo4fNr68OH%2FIVx%2BAg%3D%3D)"
      ]
    }
  ]
}